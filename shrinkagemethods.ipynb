{
 "cells": [
  {
   "cell_type": "markdown",
   "metadata": {},
   "source": [
    "# The Effects of Shrinkage Methods on Physician Prediction \n",
    "## PSTAT 126 – Linear Regression\n",
    "### Sam Sheridan"
   ]
  },
  {
   "cell_type": "markdown",
   "metadata": {},
   "source": [
    "## Shrinkage Methods\n",
    "\n",
    "The overuse of predictors in a regression model may lead to a variety of problems. Prediction performance can slump and explanations can be difficult due to collinearity. Ridge and Lasso regressions alter the traditional ordinary least squares estimators by adding a penalty to a slope. Practically speaking models where a small change in a predictor leads to a larger change in the response are penalized. These shrinkage methods are a means to improve prediction accuracy and remove or diminish the effects of unnecessary predictors. "
   ]
  },
  {
   "cell_type": "code",
   "execution_count": 193,
   "metadata": {
    "scrolled": true
   },
   "outputs": [],
   "source": [
    "import pandas as pd\n",
    "import numpy as np\n",
    "import matplotlib.pyplot as plt\n",
    "import seaborn as sns"
   ]
  },
  {
   "cell_type": "code",
   "execution_count": 194,
   "metadata": {},
   "outputs": [],
   "source": [
    "%matplotlib inline"
   ]
  },
  {
   "cell_type": "code",
   "execution_count": 195,
   "metadata": {},
   "outputs": [],
   "source": [
    "CDI = pd.read_csv('CDI.csv')"
   ]
  },
  {
   "cell_type": "code",
   "execution_count": 196,
   "metadata": {},
   "outputs": [],
   "source": [
    "CDI = CDI.drop('Unnamed: 0', axis=1) #drop redundant column"
   ]
  },
  {
   "cell_type": "code",
   "execution_count": 197,
   "metadata": {
    "scrolled": true
   },
   "outputs": [
    {
     "data": {
      "text/html": [
       "<div>\n",
       "<style scoped>\n",
       "    .dataframe tbody tr th:only-of-type {\n",
       "        vertical-align: middle;\n",
       "    }\n",
       "\n",
       "    .dataframe tbody tr th {\n",
       "        vertical-align: top;\n",
       "    }\n",
       "\n",
       "    .dataframe thead th {\n",
       "        text-align: right;\n",
       "    }\n",
       "</style>\n",
       "<table border=\"1\" class=\"dataframe\">\n",
       "  <thead>\n",
       "    <tr style=\"text-align: right;\">\n",
       "      <th></th>\n",
       "      <th>County</th>\n",
       "      <th>State</th>\n",
       "      <th>LandArea</th>\n",
       "      <th>TotalPop</th>\n",
       "      <th>Pop18</th>\n",
       "      <th>Pop65</th>\n",
       "      <th>Physicians</th>\n",
       "      <th>Beds</th>\n",
       "      <th>Crimes</th>\n",
       "      <th>HSGrad</th>\n",
       "      <th>Bachelor</th>\n",
       "      <th>Poverty</th>\n",
       "      <th>Unemp</th>\n",
       "      <th>IncPerCap</th>\n",
       "      <th>PersonalInc</th>\n",
       "      <th>Region</th>\n",
       "    </tr>\n",
       "  </thead>\n",
       "  <tbody>\n",
       "    <tr>\n",
       "      <th>0</th>\n",
       "      <td>Cook</td>\n",
       "      <td>IL</td>\n",
       "      <td>946</td>\n",
       "      <td>5105067</td>\n",
       "      <td>29.2</td>\n",
       "      <td>12.4</td>\n",
       "      <td>15153</td>\n",
       "      <td>21550</td>\n",
       "      <td>436936</td>\n",
       "      <td>73.4</td>\n",
       "      <td>22.8</td>\n",
       "      <td>11.1</td>\n",
       "      <td>7.2</td>\n",
       "      <td>21729</td>\n",
       "      <td>110928</td>\n",
       "      <td>2</td>\n",
       "    </tr>\n",
       "    <tr>\n",
       "      <th>1</th>\n",
       "      <td>Harris</td>\n",
       "      <td>TX</td>\n",
       "      <td>1729</td>\n",
       "      <td>2818199</td>\n",
       "      <td>31.3</td>\n",
       "      <td>7.1</td>\n",
       "      <td>7553</td>\n",
       "      <td>12449</td>\n",
       "      <td>253526</td>\n",
       "      <td>74.9</td>\n",
       "      <td>25.4</td>\n",
       "      <td>12.5</td>\n",
       "      <td>5.7</td>\n",
       "      <td>19517</td>\n",
       "      <td>55003</td>\n",
       "      <td>3</td>\n",
       "    </tr>\n",
       "    <tr>\n",
       "      <th>2</th>\n",
       "      <td>San_Diego</td>\n",
       "      <td>CA</td>\n",
       "      <td>4205</td>\n",
       "      <td>2498016</td>\n",
       "      <td>33.5</td>\n",
       "      <td>10.9</td>\n",
       "      <td>5905</td>\n",
       "      <td>6179</td>\n",
       "      <td>173821</td>\n",
       "      <td>81.9</td>\n",
       "      <td>25.3</td>\n",
       "      <td>8.1</td>\n",
       "      <td>6.1</td>\n",
       "      <td>19588</td>\n",
       "      <td>48931</td>\n",
       "      <td>4</td>\n",
       "    </tr>\n",
       "    <tr>\n",
       "      <th>3</th>\n",
       "      <td>Orange</td>\n",
       "      <td>CA</td>\n",
       "      <td>790</td>\n",
       "      <td>2410556</td>\n",
       "      <td>32.6</td>\n",
       "      <td>9.2</td>\n",
       "      <td>6062</td>\n",
       "      <td>6369</td>\n",
       "      <td>144524</td>\n",
       "      <td>81.2</td>\n",
       "      <td>27.8</td>\n",
       "      <td>5.2</td>\n",
       "      <td>4.8</td>\n",
       "      <td>24400</td>\n",
       "      <td>58818</td>\n",
       "      <td>4</td>\n",
       "    </tr>\n",
       "    <tr>\n",
       "      <th>4</th>\n",
       "      <td>Kings</td>\n",
       "      <td>NY</td>\n",
       "      <td>71</td>\n",
       "      <td>2300664</td>\n",
       "      <td>28.3</td>\n",
       "      <td>12.4</td>\n",
       "      <td>4861</td>\n",
       "      <td>8942</td>\n",
       "      <td>680966</td>\n",
       "      <td>63.7</td>\n",
       "      <td>16.6</td>\n",
       "      <td>19.5</td>\n",
       "      <td>9.5</td>\n",
       "      <td>16803</td>\n",
       "      <td>38658</td>\n",
       "      <td>1</td>\n",
       "    </tr>\n",
       "  </tbody>\n",
       "</table>\n",
       "</div>"
      ],
      "text/plain": [
       "      County State  LandArea  TotalPop  Pop18  Pop65  Physicians   Beds  \\\n",
       "0       Cook    IL       946   5105067   29.2   12.4       15153  21550   \n",
       "1     Harris    TX      1729   2818199   31.3    7.1        7553  12449   \n",
       "2  San_Diego    CA      4205   2498016   33.5   10.9        5905   6179   \n",
       "3     Orange    CA       790   2410556   32.6    9.2        6062   6369   \n",
       "4      Kings    NY        71   2300664   28.3   12.4        4861   8942   \n",
       "\n",
       "   Crimes  HSGrad  Bachelor  Poverty  Unemp  IncPerCap  PersonalInc  Region  \n",
       "0  436936    73.4      22.8     11.1    7.2      21729       110928       2  \n",
       "1  253526    74.9      25.4     12.5    5.7      19517        55003       3  \n",
       "2  173821    81.9      25.3      8.1    6.1      19588        48931       4  \n",
       "3  144524    81.2      27.8      5.2    4.8      24400        58818       4  \n",
       "4  680966    63.7      16.6     19.5    9.5      16803        38658       1  "
      ]
     },
     "execution_count": 197,
     "metadata": {},
     "output_type": "execute_result"
    }
   ],
   "source": [
    "CDI.head()"
   ]
  },
  {
   "cell_type": "code",
   "execution_count": 198,
   "metadata": {},
   "outputs": [],
   "source": [
    "CDI['County'] = CDI['County'].astype('category')\n",
    "CDI['State'] = CDI['State'].astype('category')\n",
    "CDI['Region'] = CDI['Region'].astype('category')\n",
    "CDI['TotalPop'] = CDI['TotalPop'].apply(np.log) #scale to improve normality assumptions\n",
    "CDI['Physicians'] = CDI['Physicians'].apply(np.log) #scale to improve normality assumptions"
   ]
  },
  {
   "cell_type": "code",
   "execution_count": 199,
   "metadata": {},
   "outputs": [],
   "source": [
    "from sklearn import linear_model\n",
    "from sklearn.model_selection import train_test_split\n",
    "from sklearn.metrics import mean_squared_error"
   ]
  },
  {
   "cell_type": "markdown",
   "metadata": {},
   "source": [
    "## Ordinary Least Squares Model\n",
    " \n",
    "I've created the linear models from earlier in the project to compare the later models too. First, the data is split into the predictor and the response, then rows for the training and testing data are randomly selected. This provides a method to measure the model's performance using previously unseen data. \n",
    "\n",
    "Specifically, these models will be fitted. \n",
    "\n",
    "***Physicians ~ log(TotalPop) + LandArea + IncPerCap***\n",
    "\n",
    "and\n",
    "\n",
    "***Physicians ~ log(TotalPop) + Region***"
   ]
  },
  {
   "cell_type": "code",
   "execution_count": 200,
   "metadata": {},
   "outputs": [],
   "source": [
    "#create dummy variables for the regions\n",
    "dummies = pd.get_dummies(CDI['Region'], prefix=\"Region\")\n",
    "CDI = pd.concat([CDI, dummies], axis = 1)"
   ]
  },
  {
   "cell_type": "code",
   "execution_count": 201,
   "metadata": {},
   "outputs": [],
   "source": [
    "X_lm1 = CDI[['TotalPop', 'IncPerCap', 'LandArea']]\n",
    "X_lm2 = CDI[['TotalPop', 'Region_1', 'Region_2', 'Region_3', 'Region_4']]\n",
    "y_lm = CDI['Physicians']"
   ]
  },
  {
   "cell_type": "markdown",
   "metadata": {},
   "source": [
    "The data is split into training and testing samples to later check prediction accuracy "
   ]
  },
  {
   "cell_type": "code",
   "execution_count": 202,
   "metadata": {},
   "outputs": [],
   "source": [
    "#partition training and testing data\n",
    "X_train_lm1, X_test_lm1, y_train_lm1, y_test_lm1 = train_test_split(X_lm1, y_lm, test_size=0.33, random_state=47)\n",
    "X_train_lm2, X_test_lm2, y_train_lm2, y_test_lm2 = train_test_split(X_lm2, y_lm, test_size=0.33, random_state=47)"
   ]
  },
  {
   "cell_type": "markdown",
   "metadata": {},
   "source": [
    "## Ordinary Least Squares Model 1"
   ]
  },
  {
   "cell_type": "code",
   "execution_count": 203,
   "metadata": {
    "scrolled": false
   },
   "outputs": [
    {
     "name": "stdout",
     "output_type": "stream",
     "text": [
      "The Mean Squared Error for the first general linear model is 0.20\n",
      "The R^2 value for the test data applied to the first linear model is 0.848\n"
     ]
    }
   ],
   "source": [
    "#fit the first linear model\n",
    "lm1 = linear_model.LinearRegression(normalize=True) #normalized for better comparison with later models\n",
    "lm1.fit(X_train_lm1, y_train_lm1)\n",
    "r_square_lm1 = lm1.score(X_test_lm1, y_test_lm1)\n",
    "lm1_MSE = mean_squared_error(y_test_lm1, lm1.predict(X_test_lm1))\n",
    "print(\"The Mean Squared Error for the first general linear model is %.2f\" % lm1_MSE)\n",
    "print(\"The R^2 value for the test data applied to the first linear model is %.3f\" % r_square_lm1)"
   ]
  },
  {
   "cell_type": "markdown",
   "metadata": {},
   "source": [
    "## Ordinary least Squares Model 2"
   ]
  },
  {
   "cell_type": "code",
   "execution_count": 204,
   "metadata": {
    "scrolled": true
   },
   "outputs": [
    {
     "name": "stdout",
     "output_type": "stream",
     "text": [
      "The Mean Squared Error for the second general linear model is 0.22\n",
      "The R^2 value for the test data applied to the second linear model is 0.833\n"
     ]
    }
   ],
   "source": [
    "#fit the second linear model \n",
    "lm2 = linear_model.LinearRegression(normalize=True) #normalized for better comparison with later models\n",
    "lm2.fit(X_train_lm2, y_train_lm2)\n",
    "r_square_lm2 = lm2.score(X_test_lm2, y_test_lm2)\n",
    "lm2_MSE = mean_squared_error(y_test_lm2, lm2.predict(X_test_lm2))\n",
    "print(\"The Mean Squared Error for the second general linear model is %.2f\" % lm2_MSE)\n",
    "print(\"The R^2 value for the test data applied to the second linear model is %.3f\" % r_square_lm2)"
   ]
  },
  {
   "cell_type": "markdown",
   "metadata": {},
   "source": [
    "### New Model Data"
   ]
  },
  {
   "cell_type": "code",
   "execution_count": 205,
   "metadata": {},
   "outputs": [],
   "source": [
    "X = CDI.drop(['Physicians', 'County', 'State', 'Region'], axis=1)\n",
    "y = CDI['Physicians']"
   ]
  },
  {
   "cell_type": "code",
   "execution_count": 206,
   "metadata": {},
   "outputs": [],
   "source": [
    "X_train, X_test, y_train, y_test = train_test_split(X, y, test_size = 0.33, random_state = 47)"
   ]
  },
  {
   "cell_type": "markdown",
   "metadata": {},
   "source": [
    "## Ridge Regression \n",
    "\n",
    "The ridge regression estimate chooses $\\beta$ to minimize $(y - X\\beta)^{T}(y - X\\beta) + \\lambda\\sum_j\\beta_j^{2}$\n",
    "\n",
    "The estimated $\\beta$'s are given by $\\hat{\\beta} = (X^{T}X + \\lambda I)^{-1}X^{T}y$\n",
    "\n",
    "Ridge regression assumes that the regression coefficients should not be large — this is a valid assumption when many predictors are believed to have a similar effect on the response. Ridge regression provides biased estimators for the coefficients, however, it may lead to a decrease in variance and can thus lower mean square error. This is a classic example of bias-variance tradeoff.\n"
   ]
  },
  {
   "cell_type": "markdown",
   "metadata": {},
   "source": [
    "The function **RidgeCV** fits a Ridge Regression model and chooses a penalty parameter from a range of values by comparing the fitted models of the various parameters through cross-validation; it chooses the model with the lower mean squared error. A range of values from 0.001 to 1 incrementing by 0.01 are tested. Due to the relatively small size of the dataset, tuning the hyperparameter from a large range of values through cross-validation is feasible. "
   ]
  },
  {
   "cell_type": "code",
   "execution_count": 207,
   "metadata": {},
   "outputs": [],
   "source": [
    "ridge = linear_model.RidgeCV(normalize = True, alphas = np.arange(0.0001, 1, .001))\n",
    "ridge.fit(X_train, y_train)\n",
    "ridge_R = ridge.score(X_test, y_test)\n",
    "ridge_MSE = mean_squared_error(y_test, ridge.predict(X_test))"
   ]
  },
  {
   "cell_type": "code",
   "execution_count": 208,
   "metadata": {
    "scrolled": true
   },
   "outputs": [
    {
     "name": "stdout",
     "output_type": "stream",
     "text": [
      "The Mean Squared Error for the ridge model is 0.11\n",
      "The R^2 value for new data applied to the ridge model is 0.917\n",
      "The penalty coefficient is 0.0091\n"
     ]
    }
   ],
   "source": [
    "print(\"The Mean Squared Error for the ridge model is %.2f\" % ridge_MSE)\n",
    "print(\"The R^2 value for new data applied to the ridge model is %.3f\" % ridge_R)\n",
    "print(\"The penalty coefficient is %.4f\" % ridge.alpha_)"
   ]
  },
  {
   "cell_type": "code",
   "execution_count": 209,
   "metadata": {
    "scrolled": false
   },
   "outputs": [
    {
     "name": "stdout",
     "output_type": "stream",
     "text": [
      "[-3.93804709e-05  1.12084873e+00  2.30279548e-02  3.51210479e-02\n",
      "  1.80106998e-04 -1.50671092e-06  1.94039926e-03  1.94408896e-02\n",
      "  5.31492438e-02 -5.88849677e-02  5.19598510e-05 -2.75550390e-05\n",
      "  8.06081171e-02 -8.05966328e-02 -7.38139237e-02  1.18100840e-01]\n"
     ]
    }
   ],
   "source": [
    "print(ridge.coef_)"
   ]
  },
  {
   "cell_type": "markdown",
   "metadata": {},
   "source": [
    "The ridge regression has greatly reduced the impact of many predictors, however it cannot fully removed any of them on its own. "
   ]
  },
  {
   "cell_type": "markdown",
   "metadata": {},
   "source": [
    "# Lasso Regression "
   ]
  },
  {
   "cell_type": "markdown",
   "metadata": {},
   "source": [
    "Lasso regression chooses $\\hat{\\beta}$ to minimize $(y-X\\beta)^{T}(y-X\\beta)$  subject to $\\Sigma_{j=1}^{p}|\\beta_j|\\leq t$. This penalty may go to zero, removing predictors from the model and in effect grabbing the predictors you want with a metaphorical \"lasso\". Lasso regression is most applicable when the model is believed to be sparse; the response can be explained by a small number of predictors with the rest having no effect. **LassoLarsIC** chooses a hyperparameter, and thus model based on AIC or BIC. The larger the parameter the more predictors are removed. Information criterion is used over cross validation because cross validation maximizes prediction accuracy without accounting for model complexity. "
   ]
  },
  {
   "cell_type": "markdown",
   "metadata": {},
   "source": [
    "## Lasso Model Selection with AIC"
   ]
  },
  {
   "cell_type": "code",
   "execution_count": 210,
   "metadata": {},
   "outputs": [
    {
     "data": {
      "text/plain": [
       "LassoLarsIC(copy_X=True, criterion='aic', eps=2.220446049250313e-16,\n",
       "            fit_intercept=True, max_iter=500, normalize=True, positive=False,\n",
       "            precompute='auto', verbose=False)"
      ]
     },
     "execution_count": 210,
     "metadata": {},
     "output_type": "execute_result"
    }
   ],
   "source": [
    "lassoAIC = linear_model.LassoLarsIC(normalize=True, criterion = 'aic')\n",
    "lassoAIC.fit(X_train, y_train)"
   ]
  },
  {
   "cell_type": "code",
   "execution_count": 211,
   "metadata": {
    "scrolled": true
   },
   "outputs": [
    {
     "name": "stdout",
     "output_type": "stream",
     "text": [
      "The penalty coefficient choosen by AIC is: 0.000168\n",
      "The score of the AIC choosen model is: 0.919086\n",
      "The MSE of the AIC model is 0.108892\n",
      "The AIC model used 14 predictors\n"
     ]
    }
   ],
   "source": [
    "print(\"The penalty coefficient choosen by AIC is: %f\" % lassoAIC.alpha_)\n",
    "print(\"The score of the AIC choosen model is: %f\" % lassoAIC.score(X_test, y_test))\n",
    "print(\"The MSE of the AIC model is %f\" % mean_squared_error(y_test, lassoAIC.predict(X_test)))\n",
    "print(\"The AIC model used %.f predictors\" % len(np.where(lassoAIC.coef_ != 0)[0]))"
   ]
  },
  {
   "cell_type": "markdown",
   "metadata": {},
   "source": [
    "### Predictors used in AIC model"
   ]
  },
  {
   "cell_type": "code",
   "execution_count": 212,
   "metadata": {
    "scrolled": false
   },
   "outputs": [
    {
     "name": "stdout",
     "output_type": "stream",
     "text": [
      "LandArea, TotalPop, Pop18, Pop65, Beds, Crimes, Bachelor, Poverty, Unemp, IncPerCap, PersonalInc, Region_1, Region_2, Region_4\n"
     ]
    }
   ],
   "source": [
    "s = ', '.join(X.iloc[:, np.where(lassoAIC.coef_ != 0)[0]].columns)\n",
    "print(s)"
   ]
  },
  {
   "cell_type": "markdown",
   "metadata": {},
   "source": [
    "The AIC choosen model is accurate, but barely reduces dimensionality."
   ]
  },
  {
   "cell_type": "markdown",
   "metadata": {},
   "source": [
    "## Lasso Model Selection with BIC"
   ]
  },
  {
   "cell_type": "code",
   "execution_count": 213,
   "metadata": {
    "scrolled": true
   },
   "outputs": [
    {
     "data": {
      "text/plain": [
       "LassoLarsIC(copy_X=True, criterion='bic', eps=2.220446049250313e-16,\n",
       "            fit_intercept=True, max_iter=500, normalize=True, positive=False,\n",
       "            precompute='auto', verbose=False)"
      ]
     },
     "execution_count": 213,
     "metadata": {},
     "output_type": "execute_result"
    }
   ],
   "source": [
    "lassoBIC = linear_model.LassoLarsIC(normalize=True, criterion = 'bic')\n",
    "lassoBIC.fit(X_train, y_train)"
   ]
  },
  {
   "cell_type": "code",
   "execution_count": 214,
   "metadata": {},
   "outputs": [
    {
     "name": "stdout",
     "output_type": "stream",
     "text": [
      "The penalty coefficient choosen by BIC is: 0.005859\n",
      "The score of the BIC choosen model is: 0.857615\n",
      "The MSE of the BIC model is 0.191618\n",
      "The BIC model used 3 predictors\n"
     ]
    }
   ],
   "source": [
    "print(\"The penalty coefficient choosen by BIC is: %f\" % lassoBIC.alpha_)\n",
    "print(\"The score of the BIC choosen model is: %f\" % lassoBIC.score(X_test, y_test))\n",
    "print(\"The MSE of the BIC model is %f\" % mean_squared_error(y_test, lassoBIC.predict(X_test)))\n",
    "print(\"The BIC model used %.f predictors\" % len(np.where(lassoBIC.coef_ != 0)[0]))"
   ]
  },
  {
   "cell_type": "markdown",
   "metadata": {},
   "source": [
    "### Predictors used in BIC model"
   ]
  },
  {
   "cell_type": "code",
   "execution_count": 215,
   "metadata": {},
   "outputs": [
    {
     "name": "stdout",
     "output_type": "stream",
     "text": [
      "TotalPop Beds Bachelor\n"
     ]
    }
   ],
   "source": [
    "print(' '.join(X.iloc[:, np.where(lassoBIC.coef_ != 0)[0]].columns))"
   ]
  },
  {
   "cell_type": "markdown",
   "metadata": {},
   "source": [
    "Lasso Regression optimized with BIC reduced the number of predictors down to 3 while maintaining high accuracy. It had better predictions then the optimized OLS models from earlier in the report "
   ]
  },
  {
   "cell_type": "markdown",
   "metadata": {},
   "source": [
    "## Simplicity - Accuracy Tradeoff\n",
    "\n",
    "### prediction accuracy can be given up for a lower dimensional model"
   ]
  },
  {
   "cell_type": "code",
   "execution_count": 216,
   "metadata": {},
   "outputs": [],
   "source": [
    "predictors_dropped = []\n",
    "a = np.arange(0.001, 0.1, 0.001)\n",
    "accuracy = []"
   ]
  },
  {
   "cell_type": "code",
   "execution_count": 217,
   "metadata": {},
   "outputs": [],
   "source": [
    "for i in range(len(a)):\n",
    "    l = linear_model.Lasso(normalize=True, alpha=a[i])\n",
    "    l.fit(X_train, y_train)\n",
    "    accuracy.append(l.score(X_test, y_test))\n",
    "    predictors_dropped.append(len(np.where(l.coef_ == 0)[0]))\n",
    "    "
   ]
  },
  {
   "cell_type": "code",
   "execution_count": 218,
   "metadata": {},
   "outputs": [
    {
     "data": {
      "text/plain": [
       "[]"
      ]
     },
     "execution_count": 218,
     "metadata": {},
     "output_type": "execute_result"
    },
    {
     "data": {
      "image/png": "[encoded data removed]",
      "text/plain": [
       "<Figure size 432x288 with 1 Axes>"
      ]
     },
     "metadata": {},
     "output_type": "display_data"
    }
   ],
   "source": [
    "sns.set()\n",
    "plt.plot(a, accuracy)\n",
    "plt.title(\"Penalty Coefficient vs Model Accuracy\")\n",
    "plt.xlabel(\"coefficient\")\n",
    "plt.ylabel('model accuracy')\n",
    "plt.plot()"
   ]
  },
  {
   "cell_type": "markdown",
   "metadata": {},
   "source": [
    "The model is most accurate with the lowest given coefficient; if allowed the model would drop the penalty term and simply become the OLS model. "
   ]
  },
  {
   "cell_type": "code",
   "execution_count": 219,
   "metadata": {
    "scrolled": false
   },
   "outputs": [
    {
     "data": {
      "text/plain": [
       "[]"
      ]
     },
     "execution_count": 219,
     "metadata": {},
     "output_type": "execute_result"
    },
    {
     "data": {
      "image/png": "[encoded data removed]",
      "text/plain": [
       "<Figure size 432x288 with 1 Axes>"
      ]
     },
     "metadata": {},
     "output_type": "display_data"
    }
   ],
   "source": [
    "plt.plot(a, predictors_dropped, color='red')\n",
    "plt.title(\"Predictors Dropped vs Penalty Coefficient\")\n",
    "plt.xlabel('Coefficient')\n",
    "plt.ylabel('Predictors Dropped')\n",
    "plt.plot()"
   ]
  },
  {
   "cell_type": "markdown",
   "metadata": {},
   "source": [
    "As the penalty coefficient increases the prediction accuracy decreases, but the number of predictors dropped increases. This simplifies the model."
   ]
  },
  {
   "cell_type": "code",
   "execution_count": 220,
   "metadata": {},
   "outputs": [
    {
     "data": {
      "image/png": "[encoded data removed]",
      "text/plain": [
       "<Figure size 432x288 with 1 Axes>"
      ]
     },
     "metadata": {},
     "output_type": "display_data"
    }
   ],
   "source": [
    "plt.plot(predictors_dropped, accuracy, color='green')\n",
    "plt.title(\"Accuracy vs Number of Predictors Dropped\")\n",
    "plt.xlabel(\"predictors dropped\")\n",
    "plt.ylabel(\"accuracy\")\n",
    "plt.show()"
   ]
  },
  {
   "cell_type": "markdown",
   "metadata": {},
   "source": [
    "A large number of predictors can be dropped without a significant decrease in prediction accuracy. A similarly accurate model can be produced with only 3 predictors, as shown in the BIC model.  "
   ]
  },
  {
   "cell_type": "markdown",
   "metadata": {},
   "source": [
    "## Comparing The Models"
   ]
  },
  {
   "cell_type": "markdown",
   "metadata": {},
   "source": [
    "The lasso regression with BIC criterion effectively reduced the size of the model while maintaining prediction accuracy. The lasso regression also out-performed the smaller OLS models from the initial project using the same number of predictors. Lasso Regression proved to be an effective shrinkage method on the data set. Ridge regression greatly penalized unnecessary predictors in the model but is unable to fully remove them. The predictors from the ridge regression with the smallest coefficients could be dropped to reduce dimensionality. \n",
    "\n",
    "While OLS models are generally more interpretable, the regularized regressions are often much better for prediction as they prevent overfitting and provide a means for choosing a smaller model. Lasso regressions are also far more effective on sparse models than OLS models.  "
   ]
  },
  {
   "cell_type": "markdown",
   "metadata": {},
   "source": [
    "# Sparse Model Example "
   ]
  },
  {
   "cell_type": "markdown",
   "metadata": {},
   "source": [
    "To show the benefits of a lasso model the training data will be sampled to create sparse training data. There are 425 rows and 16 columns, so around 20 rows of the data will be used to train the OLS and a lasso model. In order to train the OLS model for comparison, there must be more than 16 rows; however, the lasso model will still work on an extremely sparse subset of the data with under 16 rows. The data will be radomy sampled multiple times to provide an average accuracy for the models "
   ]
  },
  {
   "cell_type": "code",
   "execution_count": 221,
   "metadata": {},
   "outputs": [],
   "source": [
    "lasso_R = []\n",
    "ols_R = []\n",
    "lasso_mse = []\n",
    "ols_mse = []"
   ]
  },
  {
   "cell_type": "code",
   "execution_count": 222,
   "metadata": {},
   "outputs": [],
   "source": [
    "for i in range(100):\n",
    "    X_train_sparse, X_test_sparse, y_train_sparse, y_test_sparse = train_test_split(X, y, test_size = 0.95, random_state = i)\n",
    "    sparse_lasso = linear_model.LassoLarsIC(normalize=True, criterion = 'bic', max_iter=8)\n",
    "    sparse_lasso.fit(X_train_sparse, y_train_sparse)\n",
    "    lasso_R.append(sparse_lasso.score(X_test_sparse, y_test_sparse))\n",
    "    lasso_mse.append(mean_squared_error(y_test_sparse, sparse_lasso.predict(X_test_sparse)))\n",
    "    \n",
    "    sparse_ols = linear_model.LinearRegression(normalize=True)\n",
    "    sparse_ols.fit(X_train_sparse, y_train_sparse)\n",
    "    ols_R.append(sparse_ols.score(X_test_sparse, y_test_sparse))\n",
    "    ols_mse.append(mean_squared_error(y_test_sparse, sparse_ols.predict(X_test_sparse)))\n",
    "    \n",
    "    "
   ]
  },
  {
   "cell_type": "code",
   "execution_count": 223,
   "metadata": {},
   "outputs": [
    {
     "name": "stdout",
     "output_type": "stream",
     "text": [
      "The average lasso model's R^2 is 0.620\n",
      "The average lasso model's MSE is 0.469\n",
      "The average OLS model's R^2 is -0.895\n",
      "The average OLS model's MSE is 2.354\n"
     ]
    }
   ],
   "source": [
    "print(\"The average lasso model's R^2 is %.3f\" % np.mean(lasso_R))\n",
    "print(\"The average lasso model's MSE is %.3f\" % np.mean(lasso_mse))\n",
    "print(\"The average OLS model's R^2 is %.3f\" % np.mean(ols_R))\n",
    "print(\"The average OLS model's MSE is %.3f\" % np.mean(ols_mse))"
   ]
  },
  {
   "cell_type": "markdown",
   "metadata": {},
   "source": [
    "The lasso regression fully removes many of the predictors, while the OLS regression does not. The lasso regression is far more accurate in terms of prediction. "
   ]
  },
  {
   "cell_type": "markdown",
   "metadata": {},
   "source": [
    "## The Lasso model performs far better than OLS on sparse data sets\n",
    "### This is shown in the following histograms\n",
    "\n",
    "Note: because R^2 is computed on testing data, it can be negative and arbitrarily small to indicate a worse model. "
   ]
  },
  {
   "cell_type": "code",
   "execution_count": 224,
   "metadata": {},
   "outputs": [
    {
     "data": {
      "image/png": "[encoded data removed]",
      "text/plain": [
       "<Figure size 432x288 with 1 Axes>"
      ]
     },
     "metadata": {},
     "output_type": "display_data"
    }
   ],
   "source": [
    "plt.hist(lasso_R, color='blue', density=True)\n",
    "plt.title('Lasso R^2 distribution')\n",
    "plt.xlabel('R^2')\n",
    "plt.show()"
   ]
  },
  {
   "cell_type": "code",
   "execution_count": 225,
   "metadata": {},
   "outputs": [
    {
     "data": {
      "image/png": "[encoded data removed]",
      "text/plain": [
       "<Figure size 432x288 with 1 Axes>"
      ]
     },
     "metadata": {},
     "output_type": "display_data"
    }
   ],
   "source": [
    "plt.hist(ols_R, color='red', density=True)\n",
    "plt.title('OLS R^2 distribution')\n",
    "plt.xlabel('R^2')\n",
    "plt.show()"
   ]
  },
  {
   "cell_type": "code",
   "execution_count": 226,
   "metadata": {},
   "outputs": [
    {
     "data": {
      "image/png": "[encoded data removed]",
      "text/plain": [
       "<Figure size 432x288 with 1 Axes>"
      ]
     },
     "metadata": {},
     "output_type": "display_data"
    }
   ],
   "source": [
    "plt.hist(lasso_mse, color='blue', density=True, bins=15)\n",
    "plt.title('Lasso mse distribution')\n",
    "plt.xlabel('mse')\n",
    "plt.show()"
   ]
  },
  {
   "cell_type": "code",
   "execution_count": 227,
   "metadata": {},
   "outputs": [
    {
     "data": {
      "image/png": "[encoded data removed]",
      "text/plain": [
       "<Figure size 432x288 with 1 Axes>"
      ]
     },
     "metadata": {},
     "output_type": "display_data"
    }
   ],
   "source": [
    "plt.hist(ols_mse, color='red', density=True, bins=15)\n",
    "plt.title('OLS mse distribution')\n",
    "plt.xlabel('mse')\n",
    "plt.show()"
   ]
  },
  {
   "cell_type": "code",
   "execution_count": null,
   "metadata": {},
   "outputs": [],
   "source": []
  }
 ],
 "metadata": {
  "kernelspec": {
   "display_name": "Python 3",
   "language": "python",
   "name": "python3"
  },
  "language_info": {
   "codemirror_mode": {
    "name": "ipython",
    "version": 3
   },
   "file_extension": ".py",
   "mimetype": "text/x-python",
   "name": "python",
   "nbconvert_exporter": "python",
   "pygments_lexer": "ipython3",
   "version": "3.7.3"
  }
 },
 "nbformat": 4,
 "nbformat_minor": 2
}
